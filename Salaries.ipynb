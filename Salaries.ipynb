{
 "cells": [
  {
   "cell_type": "markdown",
   "id": "eff890f0-afa0-4617-ba86-092a4e0fe1af",
   "metadata": {},
   "source": [
    "# Q1:  What is the average BasePay across all job titles?"
   ]
  },
  {
   "cell_type": "markdown",
   "id": "807a5fe7-8c72-475b-a159-4df4f20ee018",
   "metadata": {},
   "source": [
    "# PYTHON CODE"
   ]
  },
  {
   "cell_type": "code",
   "execution_count": 20,
   "id": "bc8e34c1",
   "metadata": {},
   "outputs": [
    {
     "name": "stdout",
     "output_type": "stream",
     "text": [
      "The average of BasePay is: 66320.09110018634\n"
     ]
    }
   ],
   "source": [
    "#Q1\n",
    "average = np.mean(df.BasePay)\n",
    "\n",
    "print(f\"The average of BasePay is: {average}\")"
   ]
  },
  {
   "cell_type": "markdown",
   "id": "394de29b-e298-4a13-9e22-6a0aa4d098e7",
   "metadata": {},
   "source": [
    "# sql code"
   ]
  },
  {
   "cell_type": "code",
   "execution_count": null,
   "id": "0ae3a84a-8e0e-452f-802f-5033205b9e73",
   "metadata": {},
   "outputs": [],
   "source": [
    "SELECT AVG(BasePay) AS AverageBasePay\n",
    "FROM salaries;"
   ]
  },
  {
   "cell_type": "markdown",
   "id": "22a1af66-9bd1-405d-bbf1-63c529d14b21",
   "metadata": {},
   "source": [
    "# Q2: Which job title has the highest BasePay?\n"
   ]
  },
  {
   "cell_type": "markdown",
   "id": "99f12855-1bd4-4710-bc9e-67a7b8d9f5f6",
   "metadata": {},
   "source": [
    "# PYTHON CODE"
   ]
  },
  {
   "cell_type": "code",
   "execution_count": 60,
   "id": "097846cd-b927-4a37-bdc5-79adfcd4b0b2",
   "metadata": {},
   "outputs": [
    {
     "name": "stdout",
     "output_type": "stream",
     "text": [
      "JobTitle    Chief of Police\n",
      "BasePay           319275.01\n",
      "Name: 474, dtype: object\n"
     ]
    }
   ],
   "source": [
    "max_basepay_byjob = df.groupby('JobTitle')['BasePay'].max().reset_index()\n",
    "\n",
    "job_title = max_basepay_byjob.loc[max_basepay_byjob['BasePay'].idxmax()]\n",
    "\n",
    "print(job_title)"
   ]
  },
  {
   "cell_type": "markdown",
   "id": "9e04064d-b52e-458d-a78e-dc30c9acccb3",
   "metadata": {},
   "source": [
    "# sql code"
   ]
  },
  {
   "cell_type": "code",
   "execution_count": null,
   "id": "8f66f072-ad6a-4a07-a654-6555077d84d3",
   "metadata": {},
   "outputs": [],
   "source": [
    "SELECT JobTitle, BasePay\n",
    "FROM salaries\n",
    "ORDER BY BasePay DESC\n",
    "LIMIT 1;\n"
   ]
  },
  {
   "cell_type": "markdown",
   "id": "f483122c-55a0-40b0-9923-1c85efe49a4e",
   "metadata": {},
   "source": [
    "# Q3: How many unique job titles are there in the dataset?\n"
   ]
  },
  {
   "cell_type": "markdown",
   "id": "4dfa40d8-7692-45b4-8bc6-7705f460f3c4",
   "metadata": {},
   "source": [
    "# PYTHON CODE"
   ]
  },
  {
   "cell_type": "code",
   "execution_count": null,
   "id": "13bea464-18c6-4292-a41d-84cf7bfd33fe",
   "metadata": {},
   "outputs": [],
   "source": [
    "unique_count = df['JobTitle'].nunique()\n",
    "\n",
    "print(f\"The number of unique  is: {unique_count}\")"
   ]
  },
  {
   "cell_type": "markdown",
   "id": "86ffe2bc-3621-4cbe-be0f-47b129a2b3c9",
   "metadata": {},
   "source": [
    "# sql code"
   ]
  },
  {
   "cell_type": "code",
   "execution_count": null,
   "id": "e1a0da7a-d713-4955-9350-cdcc1065a389",
   "metadata": {},
   "outputs": [],
   "source": [
    "SELECT COUNT(DISTINCT JobTitle) AS UniqueJobTitlesCount\n",
    "FROM salaries;\n"
   ]
  },
  {
   "cell_type": "markdown",
   "id": "f34cdc8a-9374-4dbe-b2f0-9e5831abe142",
   "metadata": {},
   "source": [
    "# Q4: What is the total OvertimePay for each year?"
   ]
  },
  {
   "cell_type": "markdown",
   "id": "f87e5b8b-c6ad-4b56-890e-0237a6067167",
   "metadata": {},
   "source": [
    "# PYTHON CODE"
   ]
  },
  {
   "cell_type": "code",
   "execution_count": 27,
   "id": "5431b6e8-53a0-4b0f-805d-4095f1df9f15",
   "metadata": {},
   "outputs": [
    {
     "name": "stdout",
     "output_type": "stream",
     "text": [
      "Year\n",
      "2011    1.638388e+08\n",
      "2012    1.846910e+08\n",
      "2013    1.986214e+08\n",
      "2014    2.059186e+08\n",
      "Name: OvertimePay, dtype: float64\n"
     ]
    }
   ],
   "source": [
    "total_overtime = df.groupby('Year')['OvertimePay'].sum()\n",
    "\n",
    "print(total_overtime)"
   ]
  },
  {
   "cell_type": "markdown",
   "id": "4c1f6cba-de43-41f7-8f02-800730c33b5a",
   "metadata": {},
   "source": [
    "# sql code"
   ]
  },
  {
   "cell_type": "code",
   "execution_count": null,
   "id": "5f2353ae-221a-427e-96f3-aac434992363",
   "metadata": {},
   "outputs": [],
   "source": [
    "SELECT Year, SUM(OvertimePay) AS TotalOvertimePay\n",
    "FROM salaries\n",
    "GROUP BY Year\n",
    "ORDER BY Year;"
   ]
  },
  {
   "cell_type": "markdown",
   "id": "664886ef-8e66-4ea1-8071-879daf1d9f30",
   "metadata": {},
   "source": [
    "#### Q5: Which year had the highest average OtherPay?\n"
   ]
  },
  {
   "cell_type": "markdown",
   "id": "ded89aed-27b8-417a-8b9d-f4b7bbb3fbef",
   "metadata": {},
   "source": [
    "# PYTHON CODE"
   ]
  },
  {
   "cell_type": "code",
   "execution_count": 31,
   "id": "91cf1f38-1b16-498b-8e78-443defff4ef5",
   "metadata": {},
   "outputs": [
    {
     "name": "stdout",
     "output_type": "stream",
     "text": [
      "Year\n",
      "2011    3617.081926\n",
      "2012    3653.437583\n",
      "2013    3820.159539\n",
      "2014    3505.437466\n",
      "Name: OtherPay, dtype: float64\n",
      "The Highest Average OtherPay is: 3820.159538637452\n"
     ]
    }
   ],
   "source": [
    "average_otherpay = df.groupby('Year')['OtherPay'].mean()\n",
    "\n",
    "print(average_otherpay)\n",
    "\n",
    "HighestAverageOtherPay= max(average_otherpay)\n",
    "\n",
    "print(f\"The Highest Average OtherPay is: {HighestAverageOtherPay}\")\n"
   ]
  },
  {
   "cell_type": "markdown",
   "id": "8810d02e-87b9-4205-99c8-1eb02b29b371",
   "metadata": {},
   "source": [
    "# sql code"
   ]
  },
  {
   "cell_type": "code",
   "execution_count": null,
   "id": "b773e41d-bfac-44fe-8d80-3edfaa8593db",
   "metadata": {},
   "outputs": [],
   "source": [
    "SELECT Year, AVG(OtherPay) AS AverageOtherPay\n",
    "FROM salaries\n",
    "GROUP BY Year\n",
    "ORDER BY AverageOtherPay DESC\n",
    "LIMIT 1;"
   ]
  },
  {
   "cell_type": "markdown",
   "id": "7f41d533-bcb3-4d73-ad18-c102ee71e160",
   "metadata": {},
   "source": [
    "#### Q6: What is the median TotalPay for each job title?\n"
   ]
  },
  {
   "cell_type": "markdown",
   "id": "b31fa7ef-d7f1-431c-aab7-57b68654eead",
   "metadata": {},
   "source": [
    "# PYTHON CODE"
   ]
  },
  {
   "cell_type": "code",
   "execution_count": 32,
   "id": "a559eaf1-8219-4ac2-b68e-120fd0429bc2",
   "metadata": {},
   "outputs": [
    {
     "name": "stdout",
     "output_type": "stream",
     "text": [
      "JobTitle\n",
      "ACCOUNT CLERK                                     49777.820\n",
      "ACCOUNTANT                                        60076.240\n",
      "ACCOUNTANT INTERN                                 17658.505\n",
      "ACPO,JuvP, Juv Prob (SFERS)                       62290.780\n",
      "ACUPUNCTURIST                                     67594.400\n",
      "                                                    ...    \n",
      "X-RAY LABORATORY AIDE                             60333.125\n",
      "X-Ray Laboratory Aide                             60047.290\n",
      "YOUTH COMMISSION ADVISOR, BOARD OF SUPERVISORS    53632.870\n",
      "Youth Comm Advisor                                44449.895\n",
      "ZOO CURATOR                                       66686.560\n",
      "Name: TotalPay, Length: 2158, dtype: float64\n"
     ]
    }
   ],
   "source": [
    "median_TotalPay = df.groupby('JobTitle')['TotalPay'].median()\n",
    "\n",
    "print(median_TotalPay)"
   ]
  },
  {
   "cell_type": "markdown",
   "id": "a6f8219d-4610-4615-9f4c-f35b184eab39",
   "metadata": {},
   "source": [
    "# sql code"
   ]
  },
  {
   "cell_type": "code",
   "execution_count": null,
   "id": "cc061126-ca6b-4f37-b78b-1121ec9144ba",
   "metadata": {},
   "outputs": [],
   "source": [
    "SELECT \n",
    "    JobTitle,\n",
    "    AVG(TotalPay) AS MedianTotalPay\n",
    "FROM MedianSalaries\n",
    "GROUP BY JobTitle;\n"
   ]
  },
  {
   "cell_type": "markdown",
   "id": "1235b678-d6f3-4b50-accb-d8d7cb7c67aa",
   "metadata": {},
   "source": [
    "#### Q7: How many employees are there in each agency?\n"
   ]
  },
  {
   "cell_type": "markdown",
   "id": "030bc2a1-bb58-461e-896c-895bf56a11a9",
   "metadata": {},
   "source": [
    "# PYTHON CODE"
   ]
  },
  {
   "cell_type": "code",
   "execution_count": 37,
   "id": "96929c35-ca82-49a7-89a0-bd2af8891760",
   "metadata": {},
   "outputs": [
    {
     "name": "stdout",
     "output_type": "stream",
     "text": [
      "Agency\n",
      "San Francisco    110810\n",
      "Name: EmployeeName, dtype: int64\n",
      "Agency         EmployeeName          \n",
      "San Francisco  Kevin Lee                 13\n",
      "               Richard Lee               11\n",
      "               Steven Lee                11\n",
      "               William Wong              11\n",
      "               John Chan                  9\n",
      "                                         ..\n",
      "               Zulema Gutierrez           1\n",
      "               Zulma V Merino-Fuentes     1\n",
      "               Zun Jin  Zhang He          1\n",
      "               Zuna Luu                   1\n",
      "               Zuri  Jones                1\n",
      "Name: EmployeeName, Length: 110810, dtype: int64\n"
     ]
    }
   ],
   "source": [
    "number_employee_each_Agency = df.groupby('Agency')['EmployeeName'].nunique()\n",
    "\n",
    "print(number_employee_each_Agency)\n",
    "\n",
    "number_employee_each_Agency = df.groupby('Agency')['EmployeeName'].value_counts()\n",
    "print(number_employee_each_Agency)\n"
   ]
  },
  {
   "cell_type": "markdown",
   "id": "0c055c6f-b0d8-44af-a380-1ded806644b7",
   "metadata": {},
   "source": [
    "# sql code"
   ]
  },
  {
   "cell_type": "code",
   "execution_count": null,
   "id": "f1b63667-a68a-4290-b936-2fa3ada2e66c",
   "metadata": {},
   "outputs": [],
   "source": [
    "SELECT Agency, COUNT(EmployeeID) AS NumberOfEmployees\n",
    "FROM salaries\n",
    "GROUP BY Agency\n",
    "ORDER BY Agency;\n"
   ]
  },
  {
   "cell_type": "markdown",
   "id": "266151b2-5c72-4030-8554-20b62128cc23",
   "metadata": {},
   "source": [
    "#### Q8: What is the maximum Benefits offered by any agency?\n"
   ]
  },
  {
   "cell_type": "markdown",
   "id": "e1459ce9-31c8-4d81-84ba-2a86131770e5",
   "metadata": {},
   "source": [
    "# PYTHON CODE"
   ]
  },
  {
   "cell_type": "code",
   "execution_count": 61,
   "id": "7a4e2375-be69-4de8-b58a-e8f14ddf3362",
   "metadata": {},
   "outputs": [
    {
     "name": "stdout",
     "output_type": "stream",
     "text": [
      "Benefits         96570.66\n",
      "Agency      San Francisco\n",
      "Name: 98460, dtype: object\n"
     ]
    }
   ],
   "source": [
    "max_Benefits = df.groupby('Benefits')['Agency'].max().reset_index()\n",
    "\n",
    "agency = max_Benefits.loc[max_Benefits['Benefits'].idxmax()]\n",
    "\n",
    "print(agency )"
   ]
  },
  {
   "cell_type": "markdown",
   "id": "fce862a1-83de-4e30-b37d-9f4a618e7c9f",
   "metadata": {},
   "source": [
    "# sql code"
   ]
  },
  {
   "cell_type": "code",
   "execution_count": null,
   "id": "87d7c757-2b50-420f-8d7f-edd0eabd35ee",
   "metadata": {},
   "outputs": [],
   "source": [
    "SELECT Agency, MAX(Benefits) AS MaximumBenefits\n",
    "FROM salaries;\n"
   ]
  },
  {
   "cell_type": "markdown",
   "id": "8a2a0bd1-8f66-4ea0-bd9e-5e9a5d750c9f",
   "metadata": {},
   "source": [
    "#### Q9: What is the total BasePay, OvertimePay, and OtherPay for each employee?\n"
   ]
  },
  {
   "cell_type": "markdown",
   "id": "e460920a-69ca-443b-8fdf-67d4a7a59f86",
   "metadata": {},
   "source": [
    "# PYTHON CODE"
   ]
  },
  {
   "cell_type": "code",
   "execution_count": 54,
   "id": "a8aeffa2-9f01-4ad4-9099-7f32d104235b",
   "metadata": {},
   "outputs": [
    {
     "name": "stdout",
     "output_type": "stream",
     "text": [
      "                         BasePay  OvertimePay  OtherPay\n",
      "EmployeeName                                           \n",
      "A BERNARD FATOOH        19969.37         0.00     70.54\n",
      "A Bernard  Fatooh       23908.50         0.00     15.12\n",
      "A Bernard Fatooh        42533.70         0.00     27.84\n",
      "A ELIZABETH MARCHASIN   23591.80         0.00   2691.06\n",
      "A JAMIL NIAZI           69058.19         0.00  18438.02\n",
      "...                          ...          ...       ...\n",
      "Zun Jin Zhang He       105225.01      3691.82   6723.91\n",
      "Zuna Luu                51502.86         0.00   1015.22\n",
      "Zuna T Luu             109729.00       264.36   2249.99\n",
      "Zuri  Jones             71986.90         0.00      0.00\n",
      "Zuri Jones             153256.06         0.00      0.00\n",
      "\n",
      "[110810 rows x 3 columns]\n"
     ]
    }
   ],
   "source": [
    "total_pay_per_employee = df.groupby('EmployeeName')[['BasePay', 'OvertimePay', 'OtherPay']].sum()\n",
    "\n",
    "print(total_pay_per_employee)"
   ]
  },
  {
   "cell_type": "markdown",
   "id": "01284115-6eb2-4544-bc07-b95c69b05ec3",
   "metadata": {},
   "source": [
    "# sql code"
   ]
  },
  {
   "cell_type": "code",
   "execution_count": null,
   "id": "1cf3e5dd-daab-47ff-a154-785b592385f2",
   "metadata": {},
   "outputs": [],
   "source": [
    "SELECT \n",
    "    EmployeeID, \n",
    "    SUM(BasePay) AS TotalBasePay, \n",
    "    SUM(OvertimePay) AS TotalOvertimePay, \n",
    "    SUM(OtherPay) AS TotalOtherPay\n",
    "FROM salaries\n",
    "GROUP BY EmployeeID\n",
    "ORDER BY EmployeeID;\n"
   ]
  },
  {
   "cell_type": "markdown",
   "id": "51cab719-13e5-4520-b554-766a0993f68a",
   "metadata": {},
   "source": [
    "#### Q10: Which employee has the highest TotalPayBenefits?\n"
   ]
  },
  {
   "cell_type": "markdown",
   "id": "643f4a2b-647c-4fdf-85de-1e8f0026b8a1",
   "metadata": {},
   "source": [
    "# PYTHON CODE"
   ]
  },
  {
   "cell_type": "code",
   "execution_count": 79,
   "id": "789d289a-13b9-46a6-8e6f-69f13562e1ac",
   "metadata": {},
   "outputs": [
    {
     "name": "stdout",
     "output_type": "stream",
     "text": [
      "Kevin Lee\n"
     ]
    }
   ],
   "source": [
    "total_pay_benefits= df.groupby('EmployeeName')['TotalPayBenefits'].sum()\n",
    "employee = total_pay_benefits.idxmax()\n",
    "print(employee)"
   ]
  },
  {
   "cell_type": "markdown",
   "id": "5f49a2f1-3596-4430-890e-e6f1e11d8410",
   "metadata": {},
   "source": [
    "# sql code"
   ]
  },
  {
   "cell_type": "code",
   "execution_count": null,
   "id": "5c9d4755-2c63-48cd-a945-6192817f5c78",
   "metadata": {},
   "outputs": [],
   "source": [
    "SELECT EmployeeID, TotalPayBenefits\n",
    "FROM salaries\n",
    "ORDER BY TotalPayBenefits DESC\n",
    "LIMIT 1;\n"
   ]
  },
  {
   "cell_type": "markdown",
   "id": "249a27c0-9bbc-49ae-b7e5-e7a4cec509e8",
   "metadata": {},
   "source": [
    "#### Q11: How does the average TotalPayBenefits vary across years?\n"
   ]
  },
  {
   "cell_type": "markdown",
   "id": "f2629638-d6a7-484a-ba03-55436f556a30",
   "metadata": {},
   "source": [
    "# PYTHON CODE"
   ]
  },
  {
   "cell_type": "code",
   "execution_count": 80,
   "id": "d8930f87-395b-448a-ada1-4b0decec0345",
   "metadata": {},
   "outputs": [
    {
     "name": "stdout",
     "output_type": "stream",
     "text": [
      "Year\n",
      "2011    100372.723871\n",
      "2012    100553.255376\n",
      "2013    102486.542083\n",
      "2014    100261.455246\n",
      "Name: TotalPayBenefits, dtype: float64\n"
     ]
    }
   ],
   "source": [
    "average_totalpaybenefits= df.groupby('Year')['TotalPayBenefits'].mean()\n",
    "print(average_totalpaybenefits)"
   ]
  },
  {
   "cell_type": "markdown",
   "id": "8f2645cc-0f8c-4a12-8311-c411f1ac15b2",
   "metadata": {},
   "source": [
    "# sql code"
   ]
  },
  {
   "cell_type": "code",
   "execution_count": null,
   "id": "c5636a8f-a05a-49b2-8725-2ecc04ee0353",
   "metadata": {},
   "outputs": [],
   "source": [
    "SELECT Year, AVG(TotalPayBenefits) AS AverageTotalPayBenefits\n",
    "FROM salaries\n",
    "GROUP BY Year\n",
    "ORDER BY Year;\n"
   ]
  },
  {
   "cell_type": "markdown",
   "id": "6f1a9240-ffc0-4f65-aa7d-6472ea6943a1",
   "metadata": {},
   "source": [
    "#### Q12: What is the total BasePay for each status (full-time, part-time, etc.)?\n"
   ]
  },
  {
   "cell_type": "markdown",
   "id": "20b26b8c-9315-4bd4-be93-4cf829456238",
   "metadata": {},
   "source": [
    "# PYTHON CODE"
   ]
  },
  {
   "cell_type": "code",
   "execution_count": 55,
   "id": "3523334b-2e69-4372-9dcc-e91c79908e26",
   "metadata": {},
   "outputs": [
    {
     "name": "stdout",
     "output_type": "stream",
     "text": [
      "Status\n",
      "FT    9.357392e+09\n",
      "PT    5.010892e+08\n",
      "Name: BasePay, dtype: float64\n"
     ]
    }
   ],
   "source": [
    "total_basepay = df.groupby('Status')['BasePay'].sum()\n",
    "\n",
    "print(total_basepay)"
   ]
  },
  {
   "cell_type": "markdown",
   "id": "c47b2bde-5a2b-4e40-9317-b8634603a81c",
   "metadata": {},
   "source": [
    "# sql code"
   ]
  },
  {
   "cell_type": "code",
   "execution_count": null,
   "id": "5a964361-e5d7-4215-a203-13cb0c91a0af",
   "metadata": {},
   "outputs": [],
   "source": [
    "SELECT Status, SUM(BasePay) AS TotalBasePay\n",
    "FROM salaries\n",
    "GROUP BY Status;\n"
   ]
  },
  {
   "cell_type": "markdown",
   "id": "8165f131-8609-401d-8f18-8a9c98b4f576",
   "metadata": {},
   "source": [
    "#### Q13: How many employees are there for each job title in each agency?\n"
   ]
  },
  {
   "cell_type": "markdown",
   "id": "c5ea691d-a0c6-44a4-8dc8-8369f7a694ef",
   "metadata": {},
   "source": [
    "# PYTHON CODE"
   ]
  },
  {
   "cell_type": "code",
   "execution_count": 56,
   "id": "80925528-745f-4542-8bdb-da9501347cad",
   "metadata": {},
   "outputs": [
    {
     "name": "stdout",
     "output_type": "stream",
     "text": [
      "                                            JobTitle         Agency  \\\n",
      "0                                      ACCOUNT CLERK  San Francisco   \n",
      "1                                         ACCOUNTANT  San Francisco   \n",
      "2                                  ACCOUNTANT INTERN  San Francisco   \n",
      "3                        ACPO,JuvP, Juv Prob (SFERS)  San Francisco   \n",
      "4                                      ACUPUNCTURIST  San Francisco   \n",
      "...                                              ...            ...   \n",
      "2153                           X-RAY LABORATORY AIDE  San Francisco   \n",
      "2154                           X-Ray Laboratory Aide  San Francisco   \n",
      "2155  YOUTH COMMISSION ADVISOR, BOARD OF SUPERVISORS  San Francisco   \n",
      "2156                              Youth Comm Advisor  San Francisco   \n",
      "2157                                     ZOO CURATOR  San Francisco   \n",
      "\n",
      "      EmployeeName  \n",
      "0               83  \n",
      "1                5  \n",
      "2               48  \n",
      "3                1  \n",
      "4                1  \n",
      "...            ...  \n",
      "2153            26  \n",
      "2154            70  \n",
      "2155             1  \n",
      "2156             4  \n",
      "2157             1  \n",
      "\n",
      "[2158 rows x 3 columns]\n"
     ]
    }
   ],
   "source": [
    "employees= df.groupby(['JobTitle', 'Agency'])['EmployeeName'].nunique().reset_index()\n",
    "\n",
    "print(employees)"
   ]
  },
  {
   "cell_type": "markdown",
   "id": "d3931a27-17a8-451d-8f85-99c23a662464",
   "metadata": {},
   "source": [
    "# sql code"
   ]
  },
  {
   "cell_type": "code",
   "execution_count": null,
   "id": "3f1d56f7-a61d-416c-82bc-b564907a1048",
   "metadata": {},
   "outputs": [],
   "source": [
    "SELECT Agency, JobTitle, COUNT(EmployeeID) AS NumberOfEmployees\n",
    "FROM salaries\n",
    "GROUP BY Agency, JobTitle\n",
    "ORDER BY Agency, JobTitle;\n"
   ]
  },
  {
   "cell_type": "markdown",
   "id": "25d10353-8632-465b-b538-64a4edbb049e",
   "metadata": {},
   "source": [
    "#### Q14: Which job title has the highest average Benefits?\n"
   ]
  },
  {
   "cell_type": "markdown",
   "id": "5d999019-32d2-4201-ac92-7c13fb02bbc2",
   "metadata": {},
   "source": [
    "# PYTHON CODE"
   ]
  },
  {
   "cell_type": "code",
   "execution_count": 59,
   "id": "37739c65-7451-48ef-b395-5f14a7a0132d",
   "metadata": {},
   "outputs": [
    {
     "name": "stdout",
     "output_type": "stream",
     "text": [
      "JobTitle    Chief Investment Officer\n",
      "Benefits                    96570.66\n",
      "Name: 466, dtype: object\n"
     ]
    }
   ],
   "source": [
    "average_benefits = df.groupby('JobTitle')['Benefits'].mean().reset_index()\n",
    "\n",
    "job_title = average_benefits.loc[average_benefits['Benefits'].idxmax()]\n",
    "print(job_title)\n"
   ]
  },
  {
   "cell_type": "markdown",
   "id": "7d9d5d03-4ad0-4759-98b6-d05eb7496c0b",
   "metadata": {},
   "source": [
    "# sql code"
   ]
  },
  {
   "cell_type": "code",
   "execution_count": null,
   "id": "888f7f75-237e-44a0-af31-60376715384f",
   "metadata": {},
   "outputs": [],
   "source": [
    "SELECT JobTitle, AVG(Benefits) AS AverageBenefits\n",
    "FROM salaries\n",
    "GROUP BY JobTitle\n",
    "ORDER BY AverageBenefits DESC\n",
    "LIMIT 1;\n"
   ]
  },
  {
   "cell_type": "markdown",
   "id": "579d78de-96eb-4f01-b460-600b2f1f8c0d",
   "metadata": {},
   "source": [
    "#### Q15: What is the ratio of BasePay to TotalPayBenefits for each job title?\n"
   ]
  },
  {
   "cell_type": "markdown",
   "id": "f093fff1-8279-4282-9f53-f3a20abba710",
   "metadata": {},
   "source": [
    "# PYTHON CODE"
   ]
  },
  {
   "cell_type": "code",
   "execution_count": 81,
   "id": "4fba155a-a033-42ef-bb62-67eb0c690260",
   "metadata": {},
   "outputs": [
    {
     "name": "stdout",
     "output_type": "stream",
     "text": [
      "JobTitle\n",
      "ACCOUNT CLERK                                     47.627538\n",
      "ACCOUNTANT                                         2.642880\n",
      "ACCOUNTANT INTERN                                 20.697166\n",
      "ACPO,JuvP, Juv Prob (SFERS)                        0.776051\n",
      "ACUPUNCTURIST                                      0.689798\n",
      "                                                    ...    \n",
      "X-RAY LABORATORY AIDE                             14.549039\n",
      "X-Ray Laboratory Aide                             72.660990\n",
      "YOUTH COMMISSION ADVISOR, BOARD OF SUPERVISORS     0.639545\n",
      "Youth Comm Advisor                                 2.526301\n",
      "ZOO CURATOR                                        0.452688\n",
      "Name: BasePayToTotalPayBenefitsRatio, Length: 2158, dtype: float64\n"
     ]
    }
   ],
   "source": [
    "df['BasePayToTotalPayBenefitsRatio'] = df['BasePay'] / df['TotalPayBenefits']\n",
    "\n",
    "ratio_per_job_title = df.groupby('JobTitle')['BasePayToTotalPayBenefitsRatio'].sum()\n",
    "\n",
    "print(ratio_per_job_title)"
   ]
  },
  {
   "cell_type": "markdown",
   "id": "a4fb5b5f-3c6b-44f0-912e-4047c6301d73",
   "metadata": {},
   "source": [
    "# sql code"
   ]
  },
  {
   "cell_type": "code",
   "execution_count": null,
   "id": "a51f3e40-6104-4d35-9bc4-8d021fa29aa6",
   "metadata": {},
   "outputs": [],
   "source": [
    "SELECT \n",
    "    JobTitle, \n",
    "    SUM(BasePay) / SUM(TotalPayBenefits) AS BasePayToTotalPayBenefitsRatio\n",
    "FROM salaries\n",
    "GROUP BY JobTitle;\n"
   ]
  },
  {
   "cell_type": "markdown",
   "id": "0ad8139e-ad18-4f86-8720-d33d970032eb",
   "metadata": {},
   "source": [
    "#### Q16: Which job title has the highest ratio of BasePay to TotalPayBenefits?\n"
   ]
  },
  {
   "cell_type": "markdown",
   "id": "f8f99bbd-40c7-46bd-be87-6b798fabd302",
   "metadata": {},
   "source": [
    "# PYTHON CODE"
   ]
  },
  {
   "cell_type": "code",
   "execution_count": 86,
   "id": "82e34f12-1bb8-4644-99ef-b02dde4d92ca",
   "metadata": {},
   "outputs": [
    {
     "name": "stdout",
     "output_type": "stream",
     "text": [
      "JobTitle                          Accountant III\n",
      "BasePayToTotalPayBenefitsRatio               1.0\n",
      "Name: 120, dtype: object\n"
     ]
    }
   ],
   "source": [
    "df['BasePayToTotalPayBenefitsRatio'] = df['BasePay'] / df['TotalPayBenefits']\n",
    "\n",
    "ratio_per_jobtitle = df.groupby('JobTitle')['BasePayToTotalPayBenefitsRatio'].max().reset_index()\n",
    "job_title = ratio_per_jobtitle.loc[ratio_per_jobtitle['BasePayToTotalPayBenefitsRatio'].idxmax()]\n",
    "\n",
    "print(job_title)"
   ]
  },
  {
   "cell_type": "markdown",
   "id": "d275a100-3c39-47a8-9c1c-3c5bfed07b7e",
   "metadata": {},
   "source": [
    "# sql code"
   ]
  },
  {
   "cell_type": "code",
   "execution_count": null,
   "id": "03debe10-cfeb-4f3f-8f1f-66a06e316555",
   "metadata": {},
   "outputs": [],
   "source": [
    "SELECT JobTitle, BasePayToTotalPayBenefitsRatio\n",
    "FROM (\n",
    "    SELECT \n",
    "        JobTitle, \n",
    "        SUM(BasePay) / SUM(TotalPayBenefits) AS BasePayToTotalPayBenefitsRatio\n",
    "    FROM salaries\n",
    "    GROUP BY JobTitle\n",
    ") AS Ratios\n",
    "ORDER BY BasePayToTotalPayBenefitsRatio DESC\n",
    "LIMIT 1;\n"
   ]
  },
  {
   "cell_type": "markdown",
   "id": "25251e7e-99a5-44d1-a104-adab83e1c4b5",
   "metadata": {},
   "source": [
    "#### Q17: How many years of data are available in the dataset?\n"
   ]
  },
  {
   "cell_type": "markdown",
   "id": "a0f04248-6263-4bf6-b4af-c1c17ec7355f",
   "metadata": {},
   "source": [
    "# PYTHON CODE"
   ]
  },
  {
   "cell_type": "code",
   "execution_count": 87,
   "id": "a5974b88-19ee-4d0b-b7ab-4b99e5ff75d5",
   "metadata": {},
   "outputs": [
    {
     "name": "stdout",
     "output_type": "stream",
     "text": [
      "There are 4 years.\n"
     ]
    }
   ],
   "source": [
    "years = df['Year'].nunique()\n",
    "\n",
    "print(f\"There are {years} years.\")"
   ]
  },
  {
   "cell_type": "markdown",
   "id": "d738f408-ba4d-4daa-882c-45b7ef48f827",
   "metadata": {},
   "source": [
    "# sql code"
   ]
  },
  {
   "cell_type": "code",
   "execution_count": null,
   "id": "a4554cd8-fca8-4566-a8c5-2eac230ca9ce",
   "metadata": {},
   "outputs": [],
   "source": [
    "SELECT COUNT(DISTINCT YEAR) AS num_years\n",
    "FROM salaries;"
   ]
  },
  {
   "cell_type": "markdown",
   "id": "349df33d-e1f2-4069-a8df-39e0b107ec0a",
   "metadata": {},
   "source": [
    "#### Q18: What is the average BasePay for each year and job title combination?\n"
   ]
  },
  {
   "cell_type": "markdown",
   "id": "5e41ee64-dedd-4008-ad0e-510abd747873",
   "metadata": {},
   "source": [
    "# PYTHON CODE"
   ]
  },
  {
   "cell_type": "code",
   "execution_count": 88,
   "id": "b4304792-77da-4cdb-aca2-12ee7dbc2d29",
   "metadata": {},
   "outputs": [
    {
     "name": "stdout",
     "output_type": "stream",
     "text": [
      "Year  JobTitle                      \n",
      "2011  ACCOUNT CLERK                     43300.806506\n",
      "      ACCOUNTANT                        46643.172000\n",
      "      ACCOUNTANT INTERN                 28732.663958\n",
      "      ACUPUNCTURIST                     66374.400000\n",
      "      ADMINISTRATIVE ANALYST            63435.628602\n",
      "                                            ...     \n",
      "2014  Wire Rope Cable Maint Sprv        93904.720000\n",
      "      Worker's Comp Supervisor 1        54505.333333\n",
      "      Worker's Compensation Adjuster    69915.985385\n",
      "      X-Ray Laboratory Aide             45490.340286\n",
      "      Youth Comm Advisor                32417.420000\n",
      "Name: BasePay, Length: 4136, dtype: float64\n"
     ]
    }
   ],
   "source": [
    "average_basepay = df.groupby(['Year', 'JobTitle'])['BasePay'].mean()\n",
    "\n",
    "print(average_basepay)"
   ]
  },
  {
   "cell_type": "markdown",
   "id": "838edd30-285c-46d0-859b-958050822a3a",
   "metadata": {},
   "source": [
    "# sql code"
   ]
  },
  {
   "cell_type": "code",
   "execution_count": null,
   "id": "790ade2b-6a5c-4049-a496-30f4b570933d",
   "metadata": {},
   "outputs": [],
   "source": [
    "SELECT Year, JobTitle, AVG(BasePay) AS AverageBasePay\n",
    "FROM salaries\n",
    "GROUP BY Year, JobTitle\n",
    "ORDER BY Year, JobTitle;\n"
   ]
  },
  {
   "cell_type": "markdown",
   "id": "2a438762-fc7f-471c-93cb-f26ff5015cef",
   "metadata": {},
   "source": [
    "#### Q19: How many employees have a TotalPayBenefits greater than $326373.19??\n"
   ]
  },
  {
   "cell_type": "markdown",
   "id": "5e4d3c56-39fb-47c9-be74-b28fe034c6f1",
   "metadata": {},
   "source": [
    "# PYTHON CODE"
   ]
  },
  {
   "cell_type": "code",
   "execution_count": 93,
   "id": "15ea7b2b-b720-409c-949e-76f63e5b305f",
   "metadata": {},
   "outputs": [
    {
     "name": "stdout",
     "output_type": "stream",
     "text": [
      "There are 151 employees \n"
     ]
    }
   ],
   "source": [
    "high_totalpay_employees = df[df['TotalPayBenefits'] > 326373.19]\n",
    "\n",
    "num_employees = high_totalpay_employees.shape[0]\n",
    "\n",
    "print(f\"There are {num_employees} employees \")"
   ]
  },
  {
   "cell_type": "markdown",
   "id": "17f786b0-9b1e-4fe9-b422-891756185877",
   "metadata": {},
   "source": [
    "# sql code"
   ]
  },
  {
   "cell_type": "code",
   "execution_count": null,
   "id": "bbe24e15-5dd0-4ea1-b63a-d2d35be6d7a2",
   "metadata": {},
   "outputs": [],
   "source": [
    "SELECT COUNT(*) AS NumberOfEmployees\n",
    "FROM salaries\n",
    "WHERE TotalPayBenefits > 326373.19;\n"
   ]
  },
  {
   "cell_type": "markdown",
   "id": "e0e5537a-c058-41c5-a3b1-c006ef7baeff",
   "metadata": {},
   "source": [
    "#### Q20: Which agency has the highest average TotalPayBenefits?\n"
   ]
  },
  {
   "cell_type": "markdown",
   "id": "119996b3-3603-4ac6-ae2a-d39de9e6fccb",
   "metadata": {},
   "source": [
    "# PYTHON CODE"
   ]
  },
  {
   "cell_type": "code",
   "execution_count": 94,
   "id": "c6fda1eb-e15b-43d5-b7af-ba6452206992",
   "metadata": {},
   "outputs": [
    {
     "name": "stdout",
     "output_type": "stream",
     "text": [
      "Agency              San Francisco\n",
      "TotalPayBenefits    100923.603254\n",
      "Name: 0, dtype: object\n"
     ]
    }
   ],
   "source": [
    "average_totalpay= df.groupby('Agency')['TotalPayBenefits'].mean().reset_index()\n",
    "\n",
    "agency = average_totalpay.loc[average_totalpay['TotalPayBenefits'].idxmax()]\n",
    "\n",
    "print(agency)"
   ]
  },
  {
   "cell_type": "markdown",
   "id": "8c11f6a8-cd53-461a-8b95-4380fab4df9c",
   "metadata": {},
   "source": [
    "# sql code"
   ]
  },
  {
   "cell_type": "code",
   "execution_count": null,
   "id": "73724a43-bc18-4633-a179-dbc7d5655438",
   "metadata": {},
   "outputs": [],
   "source": [
    "SELECT Agency, AVG(TotalPayBenefits) AS AverageTotalPayBenefits\n",
    "FROM salaries\n",
    "GROUP BY Agency\n",
    "ORDER BY AverageTotalPayBenefits DESC\n",
    "LIMIT 1;\n"
   ]
  },
  {
   "cell_type": "code",
   "execution_count": 17,
   "id": "c440d0a8-8b44-4df8-9cd3-53080816d86d",
   "metadata": {},
   "outputs": [
    {
     "data": {
      "text/html": [
       "<div>\n",
       "<style scoped>\n",
       "    .dataframe tbody tr th:only-of-type {\n",
       "        vertical-align: middle;\n",
       "    }\n",
       "\n",
       "    .dataframe tbody tr th {\n",
       "        vertical-align: top;\n",
       "    }\n",
       "\n",
       "    .dataframe thead th {\n",
       "        text-align: right;\n",
       "    }\n",
       "</style>\n",
       "<table border=\"1\" class=\"dataframe\">\n",
       "  <thead>\n",
       "    <tr style=\"text-align: right;\">\n",
       "      <th></th>\n",
       "      <th>Id</th>\n",
       "      <th>EmployeeName</th>\n",
       "      <th>JobTitle</th>\n",
       "      <th>BasePay</th>\n",
       "      <th>OvertimePay</th>\n",
       "      <th>OtherPay</th>\n",
       "      <th>Benefits</th>\n",
       "      <th>TotalPay</th>\n",
       "      <th>TotalPayBenefits</th>\n",
       "      <th>Year</th>\n",
       "      <th>Agency</th>\n",
       "      <th>Status</th>\n",
       "    </tr>\n",
       "  </thead>\n",
       "  <tbody>\n",
       "    <tr>\n",
       "      <th>0</th>\n",
       "      <td>1</td>\n",
       "      <td>NATHANIEL FORD</td>\n",
       "      <td>GENERAL MANAGER-METROPOLITAN TRANSIT AUTHORITY</td>\n",
       "      <td>167411.18</td>\n",
       "      <td>0.00</td>\n",
       "      <td>400184.25</td>\n",
       "      <td>28628.62</td>\n",
       "      <td>567595.43</td>\n",
       "      <td>567595.43</td>\n",
       "      <td>2011</td>\n",
       "      <td>San Francisco</td>\n",
       "      <td>FT</td>\n",
       "    </tr>\n",
       "    <tr>\n",
       "      <th>1</th>\n",
       "      <td>2</td>\n",
       "      <td>GARY JIMENEZ</td>\n",
       "      <td>CAPTAIN III (POLICE DEPARTMENT)</td>\n",
       "      <td>155966.02</td>\n",
       "      <td>245131.88</td>\n",
       "      <td>137811.38</td>\n",
       "      <td>28628.62</td>\n",
       "      <td>538909.28</td>\n",
       "      <td>538909.28</td>\n",
       "      <td>2011</td>\n",
       "      <td>San Francisco</td>\n",
       "      <td>FT</td>\n",
       "    </tr>\n",
       "    <tr>\n",
       "      <th>2</th>\n",
       "      <td>3</td>\n",
       "      <td>ALBERT PARDINI</td>\n",
       "      <td>CAPTAIN III (POLICE DEPARTMENT)</td>\n",
       "      <td>212739.13</td>\n",
       "      <td>106088.18</td>\n",
       "      <td>16452.60</td>\n",
       "      <td>28628.62</td>\n",
       "      <td>335279.91</td>\n",
       "      <td>335279.91</td>\n",
       "      <td>2011</td>\n",
       "      <td>San Francisco</td>\n",
       "      <td>FT</td>\n",
       "    </tr>\n",
       "    <tr>\n",
       "      <th>3</th>\n",
       "      <td>4</td>\n",
       "      <td>CHRISTOPHER CHONG</td>\n",
       "      <td>WIRE ROPE CABLE MAINTENANCE MECHANIC</td>\n",
       "      <td>77916.00</td>\n",
       "      <td>56120.71</td>\n",
       "      <td>198306.90</td>\n",
       "      <td>28628.62</td>\n",
       "      <td>332343.61</td>\n",
       "      <td>332343.61</td>\n",
       "      <td>2011</td>\n",
       "      <td>San Francisco</td>\n",
       "      <td>FT</td>\n",
       "    </tr>\n",
       "    <tr>\n",
       "      <th>4</th>\n",
       "      <td>5</td>\n",
       "      <td>PATRICK GARDNER</td>\n",
       "      <td>DEPUTY CHIEF OF DEPARTMENT,(FIRE DEPARTMENT)</td>\n",
       "      <td>134401.60</td>\n",
       "      <td>9737.00</td>\n",
       "      <td>182234.59</td>\n",
       "      <td>28628.62</td>\n",
       "      <td>326373.19</td>\n",
       "      <td>326373.19</td>\n",
       "      <td>2011</td>\n",
       "      <td>San Francisco</td>\n",
       "      <td>FT</td>\n",
       "    </tr>\n",
       "  </tbody>\n",
       "</table>\n",
       "</div>"
      ],
      "text/plain": [
       "   Id       EmployeeName                                        JobTitle  \\\n",
       "0   1     NATHANIEL FORD  GENERAL MANAGER-METROPOLITAN TRANSIT AUTHORITY   \n",
       "1   2       GARY JIMENEZ                 CAPTAIN III (POLICE DEPARTMENT)   \n",
       "2   3     ALBERT PARDINI                 CAPTAIN III (POLICE DEPARTMENT)   \n",
       "3   4  CHRISTOPHER CHONG            WIRE ROPE CABLE MAINTENANCE MECHANIC   \n",
       "4   5    PATRICK GARDNER    DEPUTY CHIEF OF DEPARTMENT,(FIRE DEPARTMENT)   \n",
       "\n",
       "     BasePay  OvertimePay   OtherPay  Benefits   TotalPay  TotalPayBenefits  \\\n",
       "0  167411.18         0.00  400184.25  28628.62  567595.43         567595.43   \n",
       "1  155966.02    245131.88  137811.38  28628.62  538909.28         538909.28   \n",
       "2  212739.13    106088.18   16452.60  28628.62  335279.91         335279.91   \n",
       "3   77916.00     56120.71  198306.90  28628.62  332343.61         332343.61   \n",
       "4  134401.60      9737.00  182234.59  28628.62  326373.19         326373.19   \n",
       "\n",
       "   Year         Agency Status  \n",
       "0  2011  San Francisco     FT  \n",
       "1  2011  San Francisco     FT  \n",
       "2  2011  San Francisco     FT  \n",
       "3  2011  San Francisco     FT  \n",
       "4  2011  San Francisco     FT  "
      ]
     },
     "execution_count": 17,
     "metadata": {},
     "output_type": "execute_result"
    }
   ],
   "source": [
    "import pandas as pd \n",
    "import numpy as np\n",
    "\n",
    "df = pd.read_csv(r'C:\\Users\\pc\\OneDrive\\Desktop\\برامج\\Power diploma\\New folder\\Salarieeees (1).csv')\n",
    "df.head()"
   ]
  },
  {
   "cell_type": "code",
   "execution_count": 95,
   "id": "b71abafc",
   "metadata": {},
   "outputs": [
    {
     "data": {
      "text/html": [
       "<div>\n",
       "<style scoped>\n",
       "    .dataframe tbody tr th:only-of-type {\n",
       "        vertical-align: middle;\n",
       "    }\n",
       "\n",
       "    .dataframe tbody tr th {\n",
       "        vertical-align: top;\n",
       "    }\n",
       "\n",
       "    .dataframe thead th {\n",
       "        text-align: right;\n",
       "    }\n",
       "</style>\n",
       "<table border=\"1\" class=\"dataframe\">\n",
       "  <thead>\n",
       "    <tr style=\"text-align: right;\">\n",
       "      <th></th>\n",
       "      <th>Id</th>\n",
       "      <th>EmployeeName</th>\n",
       "      <th>JobTitle</th>\n",
       "      <th>BasePay</th>\n",
       "      <th>OvertimePay</th>\n",
       "      <th>OtherPay</th>\n",
       "      <th>Benefits</th>\n",
       "      <th>TotalPay</th>\n",
       "      <th>TotalPayBenefits</th>\n",
       "      <th>Year</th>\n",
       "      <th>Agency</th>\n",
       "      <th>Status</th>\n",
       "      <th>BasePayToTotalPayBenefitsRatio</th>\n",
       "    </tr>\n",
       "  </thead>\n",
       "  <tbody>\n",
       "    <tr>\n",
       "      <th>148645</th>\n",
       "      <td>148646</td>\n",
       "      <td>Carolyn A Wilson</td>\n",
       "      <td>Human Services Technician</td>\n",
       "      <td>0.0</td>\n",
       "      <td>0.0</td>\n",
       "      <td>0.0</td>\n",
       "      <td>0.0</td>\n",
       "      <td>0.0</td>\n",
       "      <td>0.0</td>\n",
       "      <td>2014</td>\n",
       "      <td>San Francisco</td>\n",
       "      <td>PT</td>\n",
       "      <td>NaN</td>\n",
       "    </tr>\n",
       "    <tr>\n",
       "      <th>148646</th>\n",
       "      <td>148648</td>\n",
       "      <td>Joann Anderson</td>\n",
       "      <td>Communications Dispatcher 2</td>\n",
       "      <td>0.0</td>\n",
       "      <td>0.0</td>\n",
       "      <td>0.0</td>\n",
       "      <td>0.0</td>\n",
       "      <td>0.0</td>\n",
       "      <td>0.0</td>\n",
       "      <td>2014</td>\n",
       "      <td>San Francisco</td>\n",
       "      <td>PT</td>\n",
       "      <td>NaN</td>\n",
       "    </tr>\n",
       "    <tr>\n",
       "      <th>148647</th>\n",
       "      <td>148649</td>\n",
       "      <td>Leon Walker</td>\n",
       "      <td>Custodian</td>\n",
       "      <td>0.0</td>\n",
       "      <td>0.0</td>\n",
       "      <td>0.0</td>\n",
       "      <td>0.0</td>\n",
       "      <td>0.0</td>\n",
       "      <td>0.0</td>\n",
       "      <td>2014</td>\n",
       "      <td>San Francisco</td>\n",
       "      <td>PT</td>\n",
       "      <td>NaN</td>\n",
       "    </tr>\n",
       "    <tr>\n",
       "      <th>148648</th>\n",
       "      <td>148650</td>\n",
       "      <td>Roy I Tillery</td>\n",
       "      <td>Custodian</td>\n",
       "      <td>0.0</td>\n",
       "      <td>0.0</td>\n",
       "      <td>0.0</td>\n",
       "      <td>0.0</td>\n",
       "      <td>0.0</td>\n",
       "      <td>0.0</td>\n",
       "      <td>2014</td>\n",
       "      <td>San Francisco</td>\n",
       "      <td>PT</td>\n",
       "      <td>NaN</td>\n",
       "    </tr>\n",
       "    <tr>\n",
       "      <th>148649</th>\n",
       "      <td>148654</td>\n",
       "      <td>Joe Lopez</td>\n",
       "      <td>Counselor, Log Cabin Ranch</td>\n",
       "      <td>0.0</td>\n",
       "      <td>0.0</td>\n",
       "      <td>0.0</td>\n",
       "      <td>0.0</td>\n",
       "      <td>0.0</td>\n",
       "      <td>0.0</td>\n",
       "      <td>2014</td>\n",
       "      <td>San Francisco</td>\n",
       "      <td>PT</td>\n",
       "      <td>NaN</td>\n",
       "    </tr>\n",
       "  </tbody>\n",
       "</table>\n",
       "</div>"
      ],
      "text/plain": [
       "            Id      EmployeeName                     JobTitle  BasePay  \\\n",
       "148645  148646  Carolyn A Wilson    Human Services Technician      0.0   \n",
       "148646  148648    Joann Anderson  Communications Dispatcher 2      0.0   \n",
       "148647  148649       Leon Walker                    Custodian      0.0   \n",
       "148648  148650     Roy I Tillery                    Custodian      0.0   \n",
       "148649  148654         Joe Lopez   Counselor, Log Cabin Ranch      0.0   \n",
       "\n",
       "        OvertimePay  OtherPay  Benefits  TotalPay  TotalPayBenefits  Year  \\\n",
       "148645          0.0       0.0       0.0       0.0               0.0  2014   \n",
       "148646          0.0       0.0       0.0       0.0               0.0  2014   \n",
       "148647          0.0       0.0       0.0       0.0               0.0  2014   \n",
       "148648          0.0       0.0       0.0       0.0               0.0  2014   \n",
       "148649          0.0       0.0       0.0       0.0               0.0  2014   \n",
       "\n",
       "               Agency Status  BasePayToTotalPayBenefitsRatio  \n",
       "148645  San Francisco     PT                             NaN  \n",
       "148646  San Francisco     PT                             NaN  \n",
       "148647  San Francisco     PT                             NaN  \n",
       "148648  San Francisco     PT                             NaN  \n",
       "148649  San Francisco     PT                             NaN  "
      ]
     },
     "execution_count": 95,
     "metadata": {},
     "output_type": "execute_result"
    }
   ],
   "source": [
    "df.tail()"
   ]
  },
  {
   "attachments": {},
   "cell_type": "markdown",
   "id": "5f7ba5f0",
   "metadata": {},
   "source": [
    "# Excel Dashboard\n"
   ]
  },
  {
   "attachments": {
    "%D8%A7%D9%83%D8%B3%D9%8A%D9%84.png": {
     "image/png": "[encoded data removed]"
    }
   },
   "cell_type": "markdown",
   "id": "22fbf4a1",
   "metadata": {},
   "source": [
    "![%D8%A7%D9%83%D8%B3%D9%8A%D9%84.png](attachment:%D8%A7%D9%83%D8%B3%D9%8A%D9%84.png)"
   ]
  },
  {
   "cell_type": "markdown",
   "id": "efd7a756",
   "metadata": {},
   "source": [
    "# BowerBi Dashboard"
   ]
  },
  {
   "attachments": {
    "bower.png": {
     "image/png": "[encoded data removed]"
    }
   },
   "cell_type": "markdown",
   "id": "9cb8ca7e",
   "metadata": {},
   "source": [
    "![bower.png](attachment:bower.png)"
   ]
  }
 ],
 "metadata": {
  "kernelspec": {
   "display_name": "Python 3 (ipykernel)",
   "language": "python",
   "name": "python3"
  },
  "language_info": {
   "codemirror_mode": {
    "name": "ipython",
    "version": 3
   },
   "file_extension": ".py",
   "mimetype": "text/x-python",
   "name": "python",
   "nbconvert_exporter": "python",
   "pygments_lexer": "ipython3",
   "version": "3.9.12"
  }
 },
 "nbformat": 4,
 "nbformat_minor": 5
}
